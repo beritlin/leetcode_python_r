{
 "cells": [
  {
   "cell_type": "code",
   "execution_count": 68,
   "metadata": {},
   "outputs": [],
   "source": [
    "class Solution:\n",
    "    def isPalindrome(self,x):\n",
    "        if len(str(x))%2==0:\n",
    "            return False\n",
    "        else:\n",
    "            for i in range(0,(len(str(x))//2)):\n",
    "                j = len(str(x))-(i+1)\n",
    "                if str(x)[i]==str(x)[j]:\n",
    "                    return True\n",
    "                else:\n",
    "                    return False\n",
    "\n",
    "\n",
    "## x=0 wrong answer"
   ]
  },
  {
   "cell_type": "code",
   "execution_count": 96,
   "metadata": {},
   "outputs": [],
   "source": [
    "class Solution:\n",
    "    def isPalindrome(self,x):\n",
    "        if len(str(x))==1:\n",
    "            return True\n",
    "        if len(str(x))%2==0:\n",
    "            return False\n",
    "        else:\n",
    "            for i in range(0,(len(str(x))//2)):\n",
    "                j = len(str(x))-(i+1)\n",
    "                if str(x)[i]==str(x)[j]:\n",
    "                    return True\n",
    "                else:\n",
    "                    return False\n",
    "## x=11 wrong answer"
   ]
  },
  {
   "cell_type": "code",
   "execution_count": 180,
   "metadata": {},
   "outputs": [],
   "source": [
    "class Solution:\n",
    "    def isPalindrome(self,x):\n",
    "        l = len(str(x))\n",
    "        if l==1:\n",
    "            return True\n",
    "        else:\n",
    "            half_x = str(x)[0:l//2]\n",
    "            rev_x = str(x)[(l+1)//2:l][::-1]\n",
    "            return half_x==rev_x\n",
    "                \n",
    "            \n",
    "\n",
    "        # else:\n",
    "        #     for i in range(0,(len(str(x))//2)):\n",
    "        #         j = len(str(x))-(i+1)\n",
    "        #         if str(x)[i]==str(x)[j]:\n",
    "        #             return True\n",
    "        #         else:\n",
    "        #             return False"
   ]
  },
  {
   "cell_type": "code",
   "execution_count": 181,
   "metadata": {},
   "outputs": [
    {
     "data": {
      "text/plain": [
       "False"
      ]
     },
     "execution_count": 181,
     "metadata": {},
     "output_type": "execute_result"
    }
   ],
   "source": [
    "x=-121\n",
    "Solution().isPalindrome(x)"
   ]
  },
  {
   "cell_type": "code",
   "execution_count": 182,
   "metadata": {},
   "outputs": [
    {
     "data": {
      "text/plain": [
       "False"
      ]
     },
     "execution_count": 182,
     "metadata": {},
     "output_type": "execute_result"
    }
   ],
   "source": [
    "x=10\n",
    "Solution().isPalindrome(x)"
   ]
  },
  {
   "cell_type": "code",
   "execution_count": 183,
   "metadata": {},
   "outputs": [
    {
     "data": {
      "text/plain": [
       "True"
      ]
     },
     "execution_count": 183,
     "metadata": {},
     "output_type": "execute_result"
    }
   ],
   "source": [
    "x=0\n",
    "Solution().isPalindrome(x)"
   ]
  },
  {
   "cell_type": "code",
   "execution_count": 184,
   "metadata": {},
   "outputs": [
    {
     "data": {
      "text/plain": [
       "True"
      ]
     },
     "execution_count": 184,
     "metadata": {},
     "output_type": "execute_result"
    }
   ],
   "source": [
    "x=11\n",
    "Solution().isPalindrome(x)"
   ]
  },
  {
   "cell_type": "code",
   "execution_count": 186,
   "metadata": {},
   "outputs": [
    {
     "data": {
      "text/plain": [
       "False"
      ]
     },
     "execution_count": 186,
     "metadata": {},
     "output_type": "execute_result"
    }
   ],
   "source": [
    "x=1000021\n",
    "Solution().isPalindrome(x)"
   ]
  },
  {
   "cell_type": "code",
   "execution_count": 177,
   "metadata": {},
   "outputs": [
    {
     "data": {
      "text/plain": [
       "True"
      ]
     },
     "execution_count": 177,
     "metadata": {},
     "output_type": "execute_result"
    }
   ],
   "source": []
  },
  {
   "cell_type": "code",
   "execution_count": 179,
   "metadata": {},
   "outputs": [
    {
     "data": {
      "text/plain": [
       "'100'"
      ]
     },
     "execution_count": 179,
     "metadata": {},
     "output_type": "execute_result"
    }
   ],
   "source": []
  },
  {
   "cell_type": "code",
   "execution_count": null,
   "metadata": {},
   "outputs": [],
   "source": []
  }
 ],
 "metadata": {
  "kernelspec": {
   "display_name": "Python 3.7.4 64-bit",
   "language": "python",
   "name": "python3"
  },
  "language_info": {
   "codemirror_mode": {
    "name": "ipython",
    "version": 3
   },
   "file_extension": ".py",
   "mimetype": "text/x-python",
   "name": "python",
   "nbconvert_exporter": "python",
   "pygments_lexer": "ipython3",
   "version": "3.7.4"
  },
  "orig_nbformat": 4,
  "vscode": {
   "interpreter": {
    "hash": "40d3a090f54c6569ab1632332b64b2c03c39dcf918b08424e98f38b5ae0af88f"
   }
  }
 },
 "nbformat": 4,
 "nbformat_minor": 2
}
