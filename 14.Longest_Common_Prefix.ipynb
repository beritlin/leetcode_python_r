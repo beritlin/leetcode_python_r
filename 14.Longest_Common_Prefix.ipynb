{
 "cells": [
  {
   "cell_type": "code",
   "execution_count": 71,
   "metadata": {},
   "outputs": [],
   "source": [
    "class Solution:\n",
    "    def longestCommonPrefix(self, strs):\n",
    "        s1 = list(strs[0])\n",
    "        for i in range(1,len(strs)):\n",
    "            s = list(strs[i])\n",
    "            inter = sorted(set(s1).intersection(s), key= s1.index)\n",
    "            s1 = inter\n",
    "        inter = \"\".join(inter)\n",
    "        if inter!=\"set\":     \n",
    "            return inter\n",
    "        else:\n",
    "            return \"\"\n",
    "\n",
    "### [\"\"] Runtime Error"
   ]
  },
  {
   "cell_type": "code",
   "execution_count": 76,
   "metadata": {},
   "outputs": [],
   "source": [
    "class Solution:\n",
    "    def longestCommonPrefix(self, strs):\n",
    "        if strs==[\"\"]:\n",
    "            return \"\"\n",
    "        s1 = list(strs[0])\n",
    "        for i in range(1,len(strs)):\n",
    "            s = list(strs[i])\n",
    "            inter = sorted(set(s1).intersection(s), key= s1.index)\n",
    "        inter = \"\".join(inter)\n",
    "        if inter!=\"set\":     \n",
    "            return inter\n",
    "        else:\n",
    "            return \"\"\n",
    "\n",
    "### [\"a\"] Runtime Error"
   ]
  },
  {
   "cell_type": "code",
   "execution_count": 118,
   "metadata": {},
   "outputs": [],
   "source": [
    "class Solution:\n",
    "    def longestCommonPrefix(self, strs):\n",
    "        if len(strs)<=1:\n",
    "            return \"\".join(strs)\n",
    "        else:\n",
    "            s1 = list(strs[0])\n",
    "            for i in range(1,len(strs)):\n",
    "                s = list(strs[i])\n",
    "                inter = []\n",
    "                for j in range(0,min(len(s1),len(s))):\n",
    "                    if s1[j]==s[j]:\n",
    "                        inter.append(s1[j])\n",
    "                    else:\n",
    "                        break\n",
    "                if len(inter)>0:\n",
    "                    s1 = inter\n",
    "                else:\n",
    "                    return \"\"\n",
    "            inter = \"\".join(inter)\n",
    "            return inter\n",
    "\n",
    "\n",
    "\n",
    "\n"
   ]
  },
  {
   "cell_type": "code",
   "execution_count": 119,
   "metadata": {},
   "outputs": [
    {
     "data": {
      "text/plain": [
       "'fl'"
      ]
     },
     "execution_count": 119,
     "metadata": {},
     "output_type": "execute_result"
    }
   ],
   "source": [
    "strs = [\"flower\",\"flow\",\"flight\"]\n",
    "Solution().longestCommonPrefix(strs)"
   ]
  },
  {
   "cell_type": "code",
   "execution_count": 120,
   "metadata": {},
   "outputs": [
    {
     "data": {
      "text/plain": [
       "''"
      ]
     },
     "execution_count": 120,
     "metadata": {},
     "output_type": "execute_result"
    }
   ],
   "source": [
    "strs = [\"dog\",\"racecar\",\"car\"]\n",
    "Solution().longestCommonPrefix(strs)"
   ]
  },
  {
   "cell_type": "code",
   "execution_count": 121,
   "metadata": {},
   "outputs": [
    {
     "data": {
      "text/plain": [
       "''"
      ]
     },
     "execution_count": 121,
     "metadata": {},
     "output_type": "execute_result"
    }
   ],
   "source": [
    "strs = [\"\"]\n",
    "Solution().longestCommonPrefix(strs)"
   ]
  },
  {
   "cell_type": "code",
   "execution_count": 122,
   "metadata": {},
   "outputs": [
    {
     "data": {
      "text/plain": [
       "'a'"
      ]
     },
     "execution_count": 122,
     "metadata": {},
     "output_type": "execute_result"
    }
   ],
   "source": [
    "strs = [\"a\"]\n",
    "Solution().longestCommonPrefix(strs)"
   ]
  }
 ],
 "metadata": {
  "kernelspec": {
   "display_name": "Python 3.7.4 64-bit",
   "language": "python",
   "name": "python3"
  },
  "language_info": {
   "codemirror_mode": {
    "name": "ipython",
    "version": 3
   },
   "file_extension": ".py",
   "mimetype": "text/x-python",
   "name": "python",
   "nbconvert_exporter": "python",
   "pygments_lexer": "ipython3",
   "version": "3.7.4"
  },
  "orig_nbformat": 4,
  "vscode": {
   "interpreter": {
    "hash": "40d3a090f54c6569ab1632332b64b2c03c39dcf918b08424e98f38b5ae0af88f"
   }
  }
 },
 "nbformat": 4,
 "nbformat_minor": 2
}
